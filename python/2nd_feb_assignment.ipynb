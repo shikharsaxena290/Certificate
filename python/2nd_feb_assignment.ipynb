{
  "nbformat": 4,
  "nbformat_minor": 0,
  "metadata": {
    "colab": {
      "provenance": []
    },
    "kernelspec": {
      "name": "python3",
      "display_name": "Python 3"
    },
    "language_info": {
      "name": "python"
    }
  },
  "cells": [
    {
      "cell_type": "markdown",
      "source": [
        "Q1.  Explain with an example each when to use a for loop and a while loop."
      ],
      "metadata": {
        "id": "h7FRyJkPiEXx"
      }
    },
    {
      "cell_type": "code",
      "source": [
        "#for loop:\n",
        "# Use a for loop when you know the number of iterations beforehand.\n",
        "# It's particularly useful when you want to iterate over a sequence, such as a list or range.\n",
        "# Example: Printing numbers from 1 to 5 using a for loop in Python :-\n",
        "\n",
        "for i in range(1, 6):\n",
        "  print(i)\n"
      ],
      "metadata": {
        "colab": {
          "base_uri": "https://localhost:8080/"
        },
        "id": "xVs5U-02iF2S",
        "outputId": "60b1aa8c-039b-49da-bfdb-1bb7dfc396f1"
      },
      "execution_count": 4,
      "outputs": [
        {
          "output_type": "stream",
          "name": "stdout",
          "text": [
            "1\n",
            "2\n",
            "3\n",
            "4\n",
            "5\n"
          ]
        }
      ]
    },
    {
      "cell_type": "code",
      "source": [
        "# 2. while loop:\n",
        "# Use a while loop when you don't know the number of iterations in advance, and you want to continue looping until a certain condition is met.\n",
        "# It's handy for situations where the loop termination depends on dynamic conditions.\n",
        "# Example: Printing numbers from 1 to 5 using a while loop in Python.\n",
        "\n",
        "i = 1\n",
        "while i <= 5:\n",
        "    print(i)\n",
        "    i += 1\n"
      ],
      "metadata": {
        "colab": {
          "base_uri": "https://localhost:8080/"
        },
        "id": "tP6yDqLrigoT",
        "outputId": "723d26bf-e4ac-4fb9-8c51-53861faf59cb"
      },
      "execution_count": 5,
      "outputs": [
        {
          "output_type": "stream",
          "name": "stdout",
          "text": [
            "1\n",
            "2\n",
            "3\n",
            "4\n",
            "5\n"
          ]
        }
      ]
    },
    {
      "cell_type": "markdown",
      "source": [
        "Q2. Write a python program to print the sum and product of the first 10 natural numbers using for and while loop."
      ],
      "metadata": {
        "id": "gCk9fIRViwPD"
      }
    },
    {
      "cell_type": "code",
      "source": [
        "#sum of first 10 natural numbers using for loop\n",
        "sum=0\n",
        "for i in range(1,11):\n",
        "  sum=sum+i\n",
        "\n",
        "\n",
        "print(sum)"
      ],
      "metadata": {
        "colab": {
          "base_uri": "https://localhost:8080/"
        },
        "id": "tr_JFLh9izXJ",
        "outputId": "c38b2baa-691a-4f4d-e0ba-9a648b0de630"
      },
      "execution_count": 6,
      "outputs": [
        {
          "output_type": "stream",
          "name": "stdout",
          "text": [
            "55\n"
          ]
        }
      ]
    },
    {
      "cell_type": "code",
      "source": [
        "#product of first 10 natural numbers using for loop\n",
        "product=1\n",
        "for i in range(1,11):\n",
        "  product=product*i\n",
        "\n",
        "\n",
        "print(product)"
      ],
      "metadata": {
        "colab": {
          "base_uri": "https://localhost:8080/"
        },
        "id": "GDVRR0tGjE72",
        "outputId": "f131e35c-6ac8-4a3a-9e0e-cb55dfd313a2"
      },
      "execution_count": 7,
      "outputs": [
        {
          "output_type": "stream",
          "name": "stdout",
          "text": [
            "3628800\n"
          ]
        }
      ]
    },
    {
      "cell_type": "code",
      "source": [
        "#sum of first 10 natural numbers using while loop\n",
        "sum=0\n",
        "i=1\n",
        "while i <=10:\n",
        "  sum=sum+ i\n",
        "  i=i+1\n",
        "\n",
        "\n",
        "print(sum)"
      ],
      "metadata": {
        "colab": {
          "base_uri": "https://localhost:8080/"
        },
        "id": "Vk78QjwFjKTT",
        "outputId": "80f839cc-548f-4208-9192-9afd4dceae8a"
      },
      "execution_count": 8,
      "outputs": [
        {
          "output_type": "stream",
          "name": "stdout",
          "text": [
            "55\n"
          ]
        }
      ]
    },
    {
      "cell_type": "code",
      "source": [
        "#product of first 10 natural numbers using while loop\n",
        "prod=1\n",
        "i=1\n",
        "while i<=10:\n",
        "  prod=prod*i\n",
        "  i=i+1\n",
        "\n",
        "\n",
        "print(prod)"
      ],
      "metadata": {
        "colab": {
          "base_uri": "https://localhost:8080/"
        },
        "id": "EGbugCSojO6G",
        "outputId": "d822622f-f1df-4f7a-ebfc-4bc239c8abf7"
      },
      "execution_count": 9,
      "outputs": [
        {
          "output_type": "stream",
          "name": "stdout",
          "text": [
            "3628800\n"
          ]
        }
      ]
    },
    {
      "cell_type": "markdown",
      "source": [
        "Q3. Create a python program to compute the electricity bill for a household.The per-unit charges in rupees are as follows: For the first 100 units, the user will be charged Rs. 4.5 per unit, for the next 100 units, the user will be charged Rs. 6 per unit, and for the next 100 units, the user will be charged Rs. 10 per unit, After 300 units and above the user will be charged Rs. 20 per unit.You are required to take the units of electricity consumed in a month from the user as input.Your program must pass this test case: when the unit of electricity consumed by the user in a month is 310, the total electricity bill should be 2250."
      ],
      "metadata": {
        "id": "DVuDtwFyjTbG"
      }
    },
    {
      "cell_type": "code",
      "source": [
        "unit=int(input(\"enter unit : \"))\n",
        "if unit<=100:\n",
        "  bill=unit*4.5\n",
        "  print(bill)\n",
        "elif unit>100 and unit<=200:\n",
        "  bill=100*4.5+ (unit-100)*6\n",
        "  print(bill)\n",
        "elif unit>200 and unit<=300:\n",
        "  bill= 100*4.5 + 100*6 +(unit-200)*10\n",
        "  print(bill)\n",
        "else:\n",
        "  bill=100*4.5 + 100*6 + 100*10 + (unit-300)*20\n",
        "  print(bill)"
      ],
      "metadata": {
        "colab": {
          "base_uri": "https://localhost:8080/"
        },
        "id": "4jAIgWlGjUj_",
        "outputId": "7ede1c5e-12dd-444d-b185-d5c7303fda6d"
      },
      "execution_count": 10,
      "outputs": [
        {
          "output_type": "stream",
          "name": "stdout",
          "text": [
            "enter unit : 310\n",
            "2250.0\n"
          ]
        }
      ]
    },
    {
      "cell_type": "markdown",
      "source": [
        "Q4. Create a list of numbers from 1 to 100. Use for loop and while loop to calculate the cube of each number and if the cube of that number is divisible by 4 or 5 then append that number in a list and print that list."
      ],
      "metadata": {
        "id": "MRIpPModjdXr"
      }
    },
    {
      "cell_type": "code",
      "source": [
        "#creating list\n",
        "list=[]\n",
        "for i in range(1,101):\n",
        "  list.append(i)\n",
        "print(list)\n",
        "\n",
        "# Using for loop\n",
        "cubes_for = []\n",
        "for num in range(1, 101):\n",
        "    cube = num ** 3\n",
        "    if cube % 4 == 0 or cube % 5 == 0:\n",
        "        cubes_for.append(num)\n",
        "\n",
        "\n",
        "print(\"Using for loop:\", cubes_for)\n",
        "\n",
        "\n",
        "# Using while loop\n",
        "cubes_while = []\n",
        "num = 1\n",
        "while num <= 100:\n",
        "    cube = num ** 3\n",
        "    if cube % 4 == 0 or cube % 5 == 0:\n",
        "        cubes_while.append(num)\n",
        "    num += 1\n",
        "\n",
        "\n",
        "print(\"Using while loop:\", cubes_while)"
      ],
      "metadata": {
        "colab": {
          "base_uri": "https://localhost:8080/"
        },
        "id": "PIdMZQ1pja16",
        "outputId": "3d0496b6-437a-4022-8e94-5b0948aaf7e9"
      },
      "execution_count": 11,
      "outputs": [
        {
          "output_type": "stream",
          "name": "stdout",
          "text": [
            "[1, 2, 3, 4, 5, 6, 7, 8, 9, 10, 11, 12, 13, 14, 15, 16, 17, 18, 19, 20, 21, 22, 23, 24, 25, 26, 27, 28, 29, 30, 31, 32, 33, 34, 35, 36, 37, 38, 39, 40, 41, 42, 43, 44, 45, 46, 47, 48, 49, 50, 51, 52, 53, 54, 55, 56, 57, 58, 59, 60, 61, 62, 63, 64, 65, 66, 67, 68, 69, 70, 71, 72, 73, 74, 75, 76, 77, 78, 79, 80, 81, 82, 83, 84, 85, 86, 87, 88, 89, 90, 91, 92, 93, 94, 95, 96, 97, 98, 99, 100]\n",
            "Using for loop: [2, 4, 5, 6, 8, 10, 12, 14, 15, 16, 18, 20, 22, 24, 25, 26, 28, 30, 32, 34, 35, 36, 38, 40, 42, 44, 45, 46, 48, 50, 52, 54, 55, 56, 58, 60, 62, 64, 65, 66, 68, 70, 72, 74, 75, 76, 78, 80, 82, 84, 85, 86, 88, 90, 92, 94, 95, 96, 98, 100]\n",
            "Using while loop: [2, 4, 5, 6, 8, 10, 12, 14, 15, 16, 18, 20, 22, 24, 25, 26, 28, 30, 32, 34, 35, 36, 38, 40, 42, 44, 45, 46, 48, 50, 52, 54, 55, 56, 58, 60, 62, 64, 65, 66, 68, 70, 72, 74, 75, 76, 78, 80, 82, 84, 85, 86, 88, 90, 92, 94, 95, 96, 98, 100]\n"
          ]
        }
      ]
    },
    {
      "cell_type": "markdown",
      "source": [
        "Q5. Write a program to filter count vowels in the below-given string.string = \"I want to become a data scientist\""
      ],
      "metadata": {
        "id": "mJFbN1yfjlmm"
      }
    },
    {
      "cell_type": "code",
      "source": [
        "string = \"I want to become a data scientist\"\n",
        "\n",
        "\n",
        "string_lower = string.lower()\n",
        "vowel_count = 0\n",
        "\n",
        "\n",
        "vowels = set(\"aeiou\")\n",
        "\n",
        "\n",
        "# Loop through each character in the string and check if it is a vowel\n",
        "for char in string_lower:\n",
        "    if char in vowels:\n",
        "        vowel_count += 1\n",
        "\n",
        "\n",
        "print(\"Number of vowels in the string:\", vowel_count)"
      ],
      "metadata": {
        "colab": {
          "base_uri": "https://localhost:8080/"
        },
        "id": "1kL5XlC3jopn",
        "outputId": "a8cf1ced-58c0-4874-80ad-cce8287958d3"
      },
      "execution_count": 12,
      "outputs": [
        {
          "output_type": "stream",
          "name": "stdout",
          "text": [
            "Number of vowels in the string: 12\n"
          ]
        }
      ]
    }
  ]
}