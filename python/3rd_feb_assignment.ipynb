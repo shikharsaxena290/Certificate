{
  "nbformat": 4,
  "nbformat_minor": 0,
  "metadata": {
    "colab": {
      "provenance": []
    },
    "kernelspec": {
      "name": "python3",
      "display_name": "Python 3"
    },
    "language_info": {
      "name": "python"
    }
  },
  "cells": [
    {
      "cell_type": "markdown",
      "source": [
        "Q1. Which keyword is used to create a function? Create a function to return a list of odd numbers in the\n",
        "range of 1 to 25."
      ],
      "metadata": {
        "id": "rC61DLtcPG1i"
      }
    },
    {
      "cell_type": "code",
      "source": [
        "#def keyword is used to create a function\n",
        "def get_odd_numbers():\n",
        "    odd_numbers = [num for num in range(1, 26) if num % 2 != 0]\n",
        "    return odd_numbers\n",
        "\n",
        "\n",
        "odd_numbers_list = get_odd_numbers()\n",
        "print(odd_numbers_list)"
      ],
      "metadata": {
        "colab": {
          "base_uri": "https://localhost:8080/"
        },
        "id": "E1ibd-W2PH9k",
        "outputId": "8fe01d90-0651-4533-a47d-3e2126440a5e"
      },
      "execution_count": null,
      "outputs": [
        {
          "output_type": "stream",
          "name": "stdout",
          "text": [
            "[1, 3, 5, 7, 9, 11, 13, 15, 17, 19, 21, 23, 25]\n"
          ]
        }
      ]
    },
    {
      "cell_type": "markdown",
      "source": [
        "Q2. Why *args and **kwargs is used in some functions? Create a function each for *args and **kwargs\n",
        "to demonstrate their use."
      ],
      "metadata": {
        "id": "RavL_TqmR0DS"
      }
    },
    {
      "cell_type": "code",
      "source": [
        "# by using *args, n no's of attributes u can pass in function called steric and always give output in tuples\n",
        "#where as **kwargs is used to take n no's of attribute and always gives output in form of dictionary\n",
        "\n",
        "#*args function\n",
        "def func1(*args):\n",
        "  return args\n",
        "\n",
        "func1=func1(\"shikhar\",123,23.4,True,5j+6)\n",
        "print(func1)\n",
        "print(type(func1))\n",
        "\n",
        "#**kwargs function\n",
        "def func2(**kwargs):\n",
        "  return kwargs\n",
        "\n",
        "func2=func2(a=[1,2,3,4],b=[3,4,5,6],c=[6,7,8,9])\n",
        "print(func2)\n",
        "print(type(func2))\n"
      ],
      "metadata": {
        "colab": {
          "base_uri": "https://localhost:8080/"
        },
        "id": "zDjGwvyLQUUI",
        "outputId": "e07886ab-7f45-4dca-da2f-03a1afbc7450"
      },
      "execution_count": null,
      "outputs": [
        {
          "output_type": "stream",
          "name": "stdout",
          "text": [
            "('shikhar', 123, 23.4, True, (6+5j))\n",
            "<class 'tuple'>\n",
            "{'a': [1, 2, 3, 4], 'b': [3, 4, 5, 6], 'c': [6, 7, 8, 9]}\n",
            "<class 'dict'>\n"
          ]
        }
      ]
    },
    {
      "cell_type": "markdown",
      "source": [
        "Q3. What is an iterator in python? Name the method used to initialise the iterator object and the method\n",
        "used for iteration. Use these methods to print the first five elements of the given list [2, 4, 6, 8, 10, 12, 14,\n",
        "16, 18, 20]."
      ],
      "metadata": {
        "id": "gyqqdfeRVyT9"
      }
    },
    {
      "cell_type": "code",
      "source": [
        "#An iterator is an object that contains a countable number of values.\n",
        "# An iterator is an object that can be iterated upon, meaning that you can traverse through all the values.\n",
        "\n",
        "\"\"\"Iterators in Python are implemented using the __iter__() and __next__() methods.\n",
        " __iter__(): This method is used to initialize an iterator that returns an iterator object.\n",
        "__next__(): This method is used to return the next value within an iterable\"\"\"\n",
        "\n",
        "def my_iterator(data):\n",
        "    index = 0\n",
        "    while index < len(data):\n",
        "        yield data[index]\n",
        "        index += 1\n",
        "\n",
        "\n",
        "my_list = [2, 4, 6, 8, 10, 12, 14, 16, 18, 20]\n",
        "\n",
        "\n",
        "iterator = my_iterator(my_list)\n",
        "\n",
        "for _ in range(5):\n",
        "    print(next(iterator))\n"
      ],
      "metadata": {
        "colab": {
          "base_uri": "https://localhost:8080/"
        },
        "id": "C5DI1J8tTPBK",
        "outputId": "7d1299ad-905c-4f87-84b5-e7ae37e1ef4d"
      },
      "execution_count": null,
      "outputs": [
        {
          "output_type": "stream",
          "name": "stdout",
          "text": [
            "2\n",
            "4\n",
            "6\n",
            "8\n",
            "10\n"
          ]
        }
      ]
    },
    {
      "cell_type": "markdown",
      "source": [
        "Q4. What is a generator function in python? Why yield keyword is used? Give an example of a generator\n",
        "function."
      ],
      "metadata": {
        "id": "M1qTH_bftb_G"
      }
    },
    {
      "cell_type": "code",
      "source": [
        "\"\"\"In Python, a generator function is a special type of function that allows you\n",
        "to iterate over a potentially large sequence of items without creating the entire sequence in memory at once.\n",
        "It generates values one at a time, on-the-fly, as you iterate over it.\n",
        "This can be more memory-efficient compared to creating a list or other iterable with all the values upfront.\n",
        "\n",
        "The key difference between a regular function and\n",
        "a generator function is that a generator function uses the yield keyword instead of return.\n",
        "When the generator function encounters a yield statement, it temporarily suspends its execution and yields a value to the caller.\n",
        "The next time the generator is called, it resumes from where it was suspended, keeping track of its state.\"\"\"\n",
        "\n",
        "def fib():\n",
        "  a,b=0,1\n",
        "  while True:\n",
        "    yield a\n",
        "    a,b=b,a+b\n",
        "\n",
        "fib1=fib()\n",
        "for i in range(10):\n",
        "  print(next(fib1))"
      ],
      "metadata": {
        "colab": {
          "base_uri": "https://localhost:8080/"
        },
        "id": "YC9nbR8-tXWV",
        "outputId": "1c56656f-0dd9-49be-c24c-665652a30831"
      },
      "execution_count": null,
      "outputs": [
        {
          "output_type": "stream",
          "name": "stdout",
          "text": [
            "0\n",
            "1\n",
            "1\n",
            "2\n",
            "3\n",
            "5\n",
            "8\n",
            "13\n",
            "21\n",
            "34\n"
          ]
        }
      ]
    },
    {
      "cell_type": "markdown",
      "source": [
        "Q5. Create a generator function for prime numbers less than 1000. Use the next() method to print the\n",
        "first 20 prime numbers."
      ],
      "metadata": {
        "id": "OtSWTQc4wiCy"
      }
    },
    {
      "cell_type": "code",
      "source": [
        "def primes():\n",
        "    \"\"\"Create a generator function for prime numbers less than 1000.\"\"\"\n",
        "    yield 2\n",
        "    primes_list = [2]\n",
        "    for i in range(3, 1000):\n",
        "        is_prime = True\n",
        "        for prime in primes_list:\n",
        "            if i % prime == 0:\n",
        "                is_prime = False\n",
        "                break\n",
        "        if is_prime :\n",
        "            primes_list.append(i)\n",
        "            yield i\n",
        "\n",
        "prime_gen = primes()\n",
        "# the next() method to print the first 20 prime numbers.\n",
        "for i in range(20):\n",
        "    print(next(prime_gen))"
      ],
      "metadata": {
        "colab": {
          "base_uri": "https://localhost:8080/"
        },
        "id": "FA72YsszwTOY",
        "outputId": "ad3721da-4395-45df-964e-300c78ef2c34"
      },
      "execution_count": null,
      "outputs": [
        {
          "output_type": "stream",
          "name": "stdout",
          "text": [
            "2\n",
            "3\n",
            "5\n",
            "5\n",
            "7\n",
            "7\n",
            "7\n",
            "7\n",
            "9\n",
            "11\n",
            "11\n",
            "11\n",
            "11\n",
            "11\n",
            "11\n",
            "11\n",
            "11\n",
            "11\n",
            "13\n",
            "13\n"
          ]
        }
      ]
    },
    {
      "cell_type": "markdown",
      "source": [
        "Q6. Write a python program to print the first 10 Fibonacci numbers using a while loop."
      ],
      "metadata": {
        "id": "QDOfLbBX0Jrq"
      }
    },
    {
      "cell_type": "code",
      "source": [
        "def fib(n):\n",
        "  a,b=0,1\n",
        "  count=1\n",
        "  while count<n:\n",
        "    print(a)\n",
        "    a,b=b,a+b\n",
        "    count+=1\n",
        "\n",
        "fib(10)"
      ],
      "metadata": {
        "colab": {
          "base_uri": "https://localhost:8080/"
        },
        "id": "ll0MJ5iCzNC0",
        "outputId": "70cce46d-0aae-4890-8894-5c043cda65c2"
      },
      "execution_count": null,
      "outputs": [
        {
          "output_type": "stream",
          "name": "stdout",
          "text": [
            "0\n",
            "1\n",
            "1\n",
            "2\n",
            "3\n",
            "5\n",
            "8\n",
            "13\n",
            "21\n"
          ]
        }
      ]
    },
    {
      "cell_type": "markdown",
      "source": [
        "Q7. Write a List Comprehension to iterate through the given string: ‘pwskills’.\n",
        "Expected output: ['p', 'w', 's', 'k', 'i', 'l', 'l', 's']"
      ],
      "metadata": {
        "id": "z3CXwxW307rw"
      }
    },
    {
      "cell_type": "code",
      "source": [
        "string= \"pwskills\"\n",
        "[i for i in string]"
      ],
      "metadata": {
        "colab": {
          "base_uri": "https://localhost:8080/"
        },
        "id": "o_BQoLYs0zrt",
        "outputId": "d74dc9c1-018b-4c6f-da11-7218f623093f"
      },
      "execution_count": null,
      "outputs": [
        {
          "output_type": "execute_result",
          "data": {
            "text/plain": [
              "['p', 'w', 's', 'k', 'i', 'l', 'l', 's']"
            ]
          },
          "metadata": {},
          "execution_count": 22
        }
      ]
    },
    {
      "cell_type": "markdown",
      "source": [
        "Q8. Write a python program to check whether a given number is Palindrome or not using a while loop."
      ],
      "metadata": {
        "id": "qi0nD1b51cuc"
      }
    },
    {
      "cell_type": "code",
      "source": [
        "def palindrome_no(n):\n",
        "  temp=n\n",
        "  rev=0\n",
        "  while(n>0):\n",
        "      dig=n%10\n",
        "      rev=rev*10+dig\n",
        "      n=n//10\n",
        "  if(temp==rev):\n",
        "      print(\"The number is a palindrome!\")\n",
        "  else:\n",
        "      print(\"The number isn't a palindrome!\")\n",
        "\n",
        "palindrome_no(123)\n",
        "palindrome_no(111)"
      ],
      "metadata": {
        "id": "m-4FMsDh1Veb",
        "colab": {
          "base_uri": "https://localhost:8080/"
        },
        "outputId": "78fa48ed-4a8e-45f6-dfdf-acab2dfff6da"
      },
      "execution_count": 6,
      "outputs": [
        {
          "output_type": "stream",
          "name": "stdout",
          "text": [
            "The number isn't a palindrome!\n",
            "The number is a palindrome!\n"
          ]
        }
      ]
    },
    {
      "cell_type": "markdown",
      "source": [
        "Q9. Write a code to print odd numbers from 1 to 100 using list comprehension."
      ],
      "metadata": {
        "id": "Fy7Hpv1U2E8g"
      }
    },
    {
      "cell_type": "code",
      "source": [
        "[i for i in range(1,100) if i%2!=0]"
      ],
      "metadata": {
        "colab": {
          "base_uri": "https://localhost:8080/"
        },
        "id": "D0X1rBOM2OxD",
        "outputId": "336c19d7-7c4e-4ad6-fc1a-54c5d11b2565"
      },
      "execution_count": null,
      "outputs": [
        {
          "output_type": "execute_result",
          "data": {
            "text/plain": [
              "[1,\n",
              " 3,\n",
              " 5,\n",
              " 7,\n",
              " 9,\n",
              " 11,\n",
              " 13,\n",
              " 15,\n",
              " 17,\n",
              " 19,\n",
              " 21,\n",
              " 23,\n",
              " 25,\n",
              " 27,\n",
              " 29,\n",
              " 31,\n",
              " 33,\n",
              " 35,\n",
              " 37,\n",
              " 39,\n",
              " 41,\n",
              " 43,\n",
              " 45,\n",
              " 47,\n",
              " 49,\n",
              " 51,\n",
              " 53,\n",
              " 55,\n",
              " 57,\n",
              " 59,\n",
              " 61,\n",
              " 63,\n",
              " 65,\n",
              " 67,\n",
              " 69,\n",
              " 71,\n",
              " 73,\n",
              " 75,\n",
              " 77,\n",
              " 79,\n",
              " 81,\n",
              " 83,\n",
              " 85,\n",
              " 87,\n",
              " 89,\n",
              " 91,\n",
              " 93,\n",
              " 95,\n",
              " 97,\n",
              " 99]"
            ]
          },
          "metadata": {},
          "execution_count": 23
        }
      ]
    }
  ]
}